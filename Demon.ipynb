{
  "nbformat": 4,
  "nbformat_minor": 0,
  "metadata": {
    "colab": {
      "name": "Demon.ipynb",
      "provenance": [],
      "toc_visible": true,
      "authorship_tag": "ABX9TyMIal5/WzvnECubH3Acg9JA",
      "include_colab_link": true
    },
    "kernelspec": {
      "name": "python3",
      "display_name": "Python 3"
    },
    "language_info": {
      "name": "python"
    }
  },
  "cells": [
    {
      "cell_type": "markdown",
      "metadata": {
        "id": "view-in-github",
        "colab_type": "text"
      },
      "source": [
        "<a href=\"https://colab.research.google.com/github/Imudaypamu/Python/blob/main/Demon.ipynb\" target=\"_parent\"><img src=\"https://colab.research.google.com/assets/colab-badge.svg\" alt=\"Open In Colab\"/></a>"
      ]
    },
    {
      "cell_type": "markdown",
      "source": [
        "# Introduction"
      ],
      "metadata": {
        "id": "k2gkSbn5RALQ"
      }
    },
    {
      "cell_type": "markdown",
      "source": [
        "**Python**\n",
        "\n",
        "> \n",
        "\n",
        "\n",
        "Python is an Interpreted, object-oriented, and high-level programming language. It is called an interpreted language as its source code is compiled to bytecode which is then interpreted. CPython usually compiles Python code to bytecode before interpreting it.\n"
      ],
      "metadata": {
        "id": "Ta9QLzheIrCj"
      }
    },
    {
      "cell_type": "markdown",
      "source": [
        "**History**\n",
        "\n",
        "\n",
        "Python is a widely-used general-purpose, high-level programming language. It was initially designed by Guido van Rossum in 1991 and developed by Python Software Foundation. It was mainly developed for emphasis on code readability, and its syntax allows programmers to express concepts in fewer lines of code.\n",
        "\n",
        "In the late 1980s, history was about to be written. It was that time when working on Python started. Soon after that, Guido Van Rossum began doing its application-based work in December of 1989 at Centrum Wiskunde & Informatica (CWI) which is situated in the Netherlands. It was started firstly as a hobby project because he was looking for an interesting project to keep him occupied during Christmas. The programming language in which Python is said to have succeeded is ABC Programming Language, which had interfacing with the Amoeba Operating System and had the feature of exception handling. He had already helped to create ABC earlier in his career and he had seen some issues with ABC but liked most of the features. After that what he did was really very clever. He had taken the syntax of ABC, and some of its good features. It came with a lot of complaints too, so he fixed those issues completely and had created a good scripting language that had removed all the flaws. The inspiration for the name came from BBC’s TV Show – ‘Monty Python’s Flying Circus’, as he was a big fan of the TV show and also he wanted a short, unique and slightly mysterious name for his invention and hence he named it Python! He was the “Benevolent dictator for life” (BDFL) until he stepped down from the position as the leader on 12th July 2018. For quite some time he used to work for Google, but currently, he is working at Dropbox. "
      ],
      "metadata": {
        "id": "cuXs3zupk0xQ"
      }
    },
    {
      "cell_type": "markdown",
      "source": [
        "Python Features and Advantages\n",
        "* Easy to Code. Python is a very high-level programming language, yet it is \n",
        "* effortless to learn. ...\n",
        "* Easy to Read. Python code looks like simple English words. ...\n",
        "* Free and Open-Source. ...\n",
        "* Robust Standard Library. ...\n",
        "* Interpreted. ...\n",
        "* Portable. ...\n",
        "* Object-Oriented and Procedure-Oriented. ...\n",
        "* Extensible.\n",
        "\n",
        "\n"
      ],
      "metadata": {
        "id": "6yPyG0DGJEG5"
      }
    },
    {
      "cell_type": "markdown",
      "source": [
        "**How To Download**\n",
        "\n",
        "* Go to Original Website [Python Click Here To Get IT](https://www.python.org/)\n",
        "* Go to Downloads Section \n",
        "* Select Your Machine Type{Windows/mac/linux} --Ignore this Step--\n",
        "* CLick on Download Latest Version\n",
        "* After Downloading Click To Install it"
      ],
      "metadata": {
        "id": "CNSoKmi0lCLt"
      }
    },
    {
      "cell_type": "markdown",
      "source": [
        "Simple Inout Output Statements\n",
        "\n",
        "\n",
        "```\n",
        "Output - print,return\n",
        "```\n",
        "\n",
        "\n",
        "\n",
        "```\n",
        "Input- input()\n",
        "```\n",
        "\n"
      ],
      "metadata": {
        "id": "qbTuEL-TJfl9"
      }
    },
    {
      "cell_type": "code",
      "execution_count": null,
      "metadata": {
        "colab": {
          "base_uri": "https://localhost:8080/"
        },
        "id": "kUvTwpQsIaLF",
        "outputId": "dd6585bb-9217-4fe2-8e11-ee308b659320"
      },
      "outputs": [
        {
          "output_type": "stream",
          "name": "stdout",
          "text": [
            "Im Uday Kiran Pamu\n"
          ]
        }
      ],
      "source": [
        "#Display Using Print\n",
        "print(\"Im Uday Kiran Pamu\")"
      ]
    },
    {
      "cell_type": "code",
      "source": [
        "#input method\n",
        "n=input()\n",
        "print(n)"
      ],
      "metadata": {
        "colab": {
          "base_uri": "https://localhost:8080/"
        },
        "id": "rHppAwA7KLFO",
        "outputId": "e86be4c9-ed9e-4f23-a335-91b5716846b0"
      },
      "execution_count": null,
      "outputs": [
        {
          "output_type": "stream",
          "name": "stdout",
          "text": [
            "uday\n",
            "uday\n"
          ]
        }
      ]
    },
    {
      "cell_type": "markdown",
      "source": [
        "# Variable Declartion and Memory Allocation"
      ],
      "metadata": {
        "id": "9AWwUJ1NKl7j"
      }
    },
    {
      "cell_type": "markdown",
      "source": [
        "Variable declaration\n",
        "\n",
        "a  =  10\n",
        "\n",
        "Here a is an varibale with the value of 10\n",
        "\n",
        "Rules\n",
        "* Variable name should be started with lower case(as we define constant values with Upper case)\n",
        "* Digits are allowed but not in the start\n",
        "* _ is only special character that is allowed \n"
      ],
      "metadata": {
        "id": "wjiQHex-KzBf"
      }
    },
    {
      "cell_type": "code",
      "source": [
        "first_num=10\n",
        "second_num=87\n",
        "ans=first_num+second_num\n",
        "print(ans)"
      ],
      "metadata": {
        "colab": {
          "base_uri": "https://localhost:8080/"
        },
        "id": "0EXchrsNKxWe",
        "outputId": "c6f6a5d6-c4a5-47d5-95ac-9a730d42b317"
      },
      "execution_count": null,
      "outputs": [
        {
          "output_type": "stream",
          "name": "stdout",
          "text": [
            "97\n"
          ]
        }
      ]
    },
    {
      "cell_type": "markdown",
      "source": [
        "Imp\n",
        "\n",
        "We should know about \n",
        "* id \n",
        "* type\n",
        "\n",
        "\n",
        "functions that are useful to know about the memory location and data type"
      ],
      "metadata": {
        "id": "Rx8ST4SLL1Vz"
      }
    },
    {
      "cell_type": "code",
      "source": [
        "#example-1  ---(id)---\n",
        "\n",
        "# * it will show the memory location of the data where it is stored\n",
        "print(id(first_num),id(second_num))\n",
        "\n",
        "#first_num,second_num are last variables that i have been used (above)"
      ],
      "metadata": {
        "colab": {
          "base_uri": "https://localhost:8080/"
        },
        "id": "cxuOM5-tMM6L",
        "outputId": "cbc1c609-5d4c-42e5-c5a5-1709d145a361"
      },
      "execution_count": null,
      "outputs": [
        {
          "output_type": "stream",
          "name": "stdout",
          "text": [
            "11256352 11258816\n"
          ]
        }
      ]
    },
    {
      "cell_type": "code",
      "source": [
        "#example-2  ---(id)---\n",
        "a=100\n",
        "print(id(a))"
      ],
      "metadata": {
        "colab": {
          "base_uri": "https://localhost:8080/"
        },
        "id": "yHN4sFVjPWNE",
        "outputId": "54ab1257-f280-4502-98de-6c2ccfcf04a7"
      },
      "execution_count": null,
      "outputs": [
        {
          "output_type": "stream",
          "name": "stdout",
          "text": [
            "11259232\n"
          ]
        }
      ]
    },
    {
      "cell_type": "code",
      "source": [
        "#example-3 ---(type)---\n",
        "\n",
        "# * it will dispaly what is the data type it is\n",
        "print(a)\n",
        "print(type(a))"
      ],
      "metadata": {
        "colab": {
          "base_uri": "https://localhost:8080/"
        },
        "id": "RsQItQZMQCBa",
        "outputId": "585c77b3-625f-46e7-c985-57f7b2906174"
      },
      "execution_count": null,
      "outputs": [
        {
          "output_type": "stream",
          "name": "stdout",
          "text": [
            "100\n",
            "<class 'int'>\n"
          ]
        }
      ]
    },
    {
      "cell_type": "code",
      "source": [
        "#example-4  ---both (id,type)\n",
        "abc=124\n",
        "print(abc)\n",
        "print(type(abc))\n",
        "print(id(abc)) "
      ],
      "metadata": {
        "colab": {
          "base_uri": "https://localhost:8080/"
        },
        "id": "mOXfsTOeQI0z",
        "outputId": "1c4259d6-392f-4580-c178-86ed127b1fa8"
      },
      "execution_count": null,
      "outputs": [
        {
          "output_type": "stream",
          "name": "stdout",
          "text": [
            "124\n",
            "<class 'int'>\n",
            "11260000\n"
          ]
        }
      ]
    },
    {
      "cell_type": "markdown",
      "source": [
        "OBJECT INTERING\n",
        "\n",
        "object intering refers where same value is assinged to two different variables will store at same memory location\n"
      ],
      "metadata": {
        "id": "yN7fy9FoRcP3"
      }
    },
    {
      "cell_type": "code",
      "source": [
        "#example\n",
        "pamu=123\n",
        "print(pamu)\n",
        "uday=123\n",
        "print(uday)\n",
        "print(id(pamu),id(uday))"
      ],
      "metadata": {
        "colab": {
          "base_uri": "https://localhost:8080/"
        },
        "id": "jRh_XDpsRtUa",
        "outputId": "da265e2c-4cb2-4d17-e2e6-db7f45bfc254"
      },
      "execution_count": null,
      "outputs": [
        {
          "output_type": "stream",
          "name": "stdout",
          "text": [
            "123\n",
            "123\n",
            "11259968 11259968\n"
          ]
        }
      ]
    },
    {
      "cell_type": "markdown",
      "source": [
        "# Data Types"
      ],
      "metadata": {
        "id": "MIBx3k72SGRv"
      }
    },
    {
      "cell_type": "markdown",
      "source": [
        "Supported Data Types\n",
        "* **Numeric** ---  int,float,complex\n",
        "* **Text**    ---  str\n",
        "* **sequence**---  list,tupple,range\n",
        "* **Mapping** ---  Dictionary\n",
        "\n",
        ">List and Dictionary are Mutable Data Types\n",
        "\n",
        "\n",
        ">Remaining all are immutable\n",
        "\n",
        "\n",
        "\n",
        "```\n",
        "# Mutable data types can be changed(add,update,delete etc)\n",
        "#Immutable Data types that cant be changed forever\n",
        "```\n",
        "\n"
      ],
      "metadata": {
        "id": "2kBri2qTSN0z"
      }
    },
    {
      "cell_type": "markdown",
      "source": [
        "Numeric data types\n",
        "* which deals with numbers "
      ],
      "metadata": {
        "id": "dvlcbdKxXZUP"
      }
    },
    {
      "cell_type": "code",
      "source": [
        "#example for int\n",
        "# just an integer is defined as int data type\n",
        "\n",
        "a=12\n",
        "print(a)\n",
        "print(type(a))"
      ],
      "metadata": {
        "colab": {
          "base_uri": "https://localhost:8080/"
        },
        "id": "rIU__F21T8ih",
        "outputId": "b166cbfb-8743-4ba5-8f63-0c919c3bd81c"
      },
      "execution_count": null,
      "outputs": [
        {
          "output_type": "stream",
          "name": "stdout",
          "text": [
            "12\n",
            "<class 'int'>\n"
          ]
        }
      ]
    },
    {
      "cell_type": "code",
      "source": [
        "#example for float\n",
        "# a decimal number is defined as float data type\n",
        "\n",
        "a=12.33\n",
        "print(a)\n",
        "print(type(a))"
      ],
      "metadata": {
        "colab": {
          "base_uri": "https://localhost:8080/"
        },
        "id": "d3K3JTeZURCq",
        "outputId": "f2d5faae-1194-48ec-9459-839e3a32521d"
      },
      "execution_count": null,
      "outputs": [
        {
          "output_type": "stream",
          "name": "stdout",
          "text": [
            "12.33\n",
            "<class 'float'>\n"
          ]
        }
      ]
    },
    {
      "cell_type": "code",
      "source": [
        "#example for complex \n",
        "# contains real and image numbers\n",
        "\n",
        "\n",
        "x=2\n",
        "y=5\n",
        "print(complex(x,y))"
      ],
      "metadata": {
        "colab": {
          "base_uri": "https://localhost:8080/"
        },
        "id": "duTQ5jKkUhvf",
        "outputId": "fb362b55-c7ed-40b7-d94f-ae94d4232334"
      },
      "execution_count": null,
      "outputs": [
        {
          "output_type": "stream",
          "name": "stdout",
          "text": [
            "(2+5j)\n"
          ]
        }
      ]
    },
    {
      "cell_type": "markdown",
      "source": [
        "String is a collection of Characters ,Where the Charavters are symbols\n",
        "\n",
        "* String should be written in the Double,single and triple qoutes\n",
        " i.e \" \" ' '  ''' '''"
      ],
      "metadata": {
        "id": "8oPuPhvpVNXC"
      }
    },
    {
      "cell_type": "code",
      "source": [
        "#example for string\n",
        "str='facebook'\n",
        "print(str)\n",
        "a=\"instagram\"\n",
        "print(a)\n",
        "b=\"\"\"are owned by mark zukerberg\"\"\"\n",
        "print(b)"
      ],
      "metadata": {
        "colab": {
          "base_uri": "https://localhost:8080/"
        },
        "id": "qteECYSJU48X",
        "outputId": "b718da41-5b70-4662-f0ad-40cab69ea97d"
      },
      "execution_count": null,
      "outputs": [
        {
          "output_type": "stream",
          "name": "stdout",
          "text": [
            "facebook\n",
            "instagram\n",
            "are owned by mark zukerberg\n"
          ]
        }
      ]
    },
    {
      "cell_type": "code",
      "source": [
        "#example in some special cases\n",
        "x=\"Dr.strange was produced and directed by 'Marvel Studios'\"\n",
        "print(x)"
      ],
      "metadata": {
        "colab": {
          "base_uri": "https://localhost:8080/"
        },
        "id": "V7-Nl1AgWplZ",
        "outputId": "68383dc5-72a7-474b-b5e9-1aafc63a2ce5"
      },
      "execution_count": null,
      "outputs": [
        {
          "output_type": "stream",
          "name": "stdout",
          "text": [
            "Dr.strange was produced and directed by 'Marvel Studios'\n"
          ]
        }
      ]
    },
    {
      "cell_type": "markdown",
      "source": [
        "Sequence Data Types\n",
        "* List\n",
        "* Tupple\n",
        "* Range\n"
      ],
      "metadata": {
        "id": "ZEVWw1i7Xinc"
      }
    },
    {
      "cell_type": "code",
      "source": [
        "#example for list\n",
        "list = [\"apple\", \"banana\", \"cherry\", \"apple\", \"cherry\"]\n",
        "print(list)"
      ],
      "metadata": {
        "colab": {
          "base_uri": "https://localhost:8080/"
        },
        "id": "QA-xR03EX-vH",
        "outputId": "10823c98-da2d-4f40-ac9c-81ca884182be"
      },
      "execution_count": null,
      "outputs": [
        {
          "output_type": "stream",
          "name": "stdout",
          "text": [
            "['apple', 'banana', 'cherry', 'apple', 'cherry']\n"
          ]
        }
      ]
    },
    {
      "cell_type": "code",
      "source": [
        "#example for tuple\n",
        "tuple = (\"apple\", \"banana\", \"cherry\")\n",
        "print(tuple)"
      ],
      "metadata": {
        "colab": {
          "base_uri": "https://localhost:8080/"
        },
        "id": "grW-5TKiYjG-",
        "outputId": "db4a9403-4229-4ee6-c7de-9835664b68ce"
      },
      "execution_count": null,
      "outputs": [
        {
          "output_type": "stream",
          "name": "stdout",
          "text": [
            "('apple', 'banana', 'cherry')\n"
          ]
        }
      ]
    },
    {
      "cell_type": "code",
      "source": [
        "#example for range\n",
        "a=range(10)\n",
        "for n in a:\n",
        "  print(n)"
      ],
      "metadata": {
        "colab": {
          "base_uri": "https://localhost:8080/"
        },
        "id": "GJHfPe8oZAHG",
        "outputId": "d26bd456-1e0a-48c3-f94f-e63d113f4069"
      },
      "execution_count": null,
      "outputs": [
        {
          "output_type": "stream",
          "name": "stdout",
          "text": [
            "0\n",
            "1\n",
            "2\n",
            "3\n",
            "4\n",
            "5\n",
            "6\n",
            "7\n",
            "8\n",
            "9\n"
          ]
        }
      ]
    },
    {
      "cell_type": "code",
      "source": [
        "dict = {\n",
        "  \"brand\": \"Ford\",\n",
        "  \"model\": \"Mustang\",\n",
        "  \"year\": 1964\n",
        "}\n",
        "print(dict)"
      ],
      "metadata": {
        "colab": {
          "base_uri": "https://localhost:8080/"
        },
        "id": "5Vdn2MzhZe8S",
        "outputId": "4a72a428-38cd-4dba-d945-47219190dab3"
      },
      "execution_count": null,
      "outputs": [
        {
          "output_type": "stream",
          "name": "stdout",
          "text": [
            "{'brand': 'Ford', 'model': 'Mustang', 'year': 1964}\n"
          ]
        }
      ]
    },
    {
      "cell_type": "markdown",
      "source": [
        "Difference between immutable and Mutable Examples\n",
        "* With Int vs List"
      ],
      "metadata": {
        "id": "QyBy-FlVaPfP"
      }
    },
    {
      "cell_type": "code",
      "source": [
        "#Exampple with Integer\n",
        "\n",
        "int=100\n",
        "print(id(int))\n",
        "int=105\n",
        "print(id(int))\n",
        "print(\"Here first Variable Int Stored the Value at\",id(int),\"But here the same Int variable stored another value at different Memory Location\")"
      ],
      "metadata": {
        "colab": {
          "base_uri": "https://localhost:8080/"
        },
        "id": "PLQzY08Aac4-",
        "outputId": "391e1801-5eaf-40ba-a3bb-a0c63ab695d7"
      },
      "execution_count": null,
      "outputs": [
        {
          "output_type": "stream",
          "name": "stdout",
          "text": [
            "11259232\n",
            "11259392\n",
            "Here first Variable Int Stored the Value at 11259392 But here the same Int variable stored another value at different Memory Location\n"
          ]
        }
      ]
    },
    {
      "cell_type": "code",
      "source": [
        "#Example with List \n",
        "list=[\"banana\",\"apple\",\"cherry\"]\n",
        "print(list)\n",
        "print(id(list))\n",
        "#After the Operation of append\n",
        "list.append(\"Mango\")\n",
        "print(list)\n",
        "print(id(list))"
      ],
      "metadata": {
        "colab": {
          "base_uri": "https://localhost:8080/"
        },
        "id": "2KvvcKHibnse",
        "outputId": "0301a83f-ee35-48d0-f3fe-c1b81656defc"
      },
      "execution_count": null,
      "outputs": [
        {
          "output_type": "stream",
          "name": "stdout",
          "text": [
            "['banana', 'apple', 'cherry']\n",
            "140573982802880\n",
            "['banana', 'apple', 'cherry', 'Mango']\n",
            "140573982802880\n"
          ]
        }
      ]
    },
    {
      "cell_type": "markdown",
      "source": [
        "Here in above two code examples we used int and list\n",
        "* Int\n",
        "  - same variable after modification or changing it will store at fresh location\n",
        "  - which is not allowed \n",
        "*List \n",
        "  - Same variable will store the value at one memory location even after changing r modification\n",
        "  - which is allowed\n",
        "\n",
        "\n",
        "**- Immutable Data Types which are Cant changed are Modified they are all Excluding List and Dictionary**\n",
        "\n",
        "**- Mutable Data Types which are Can changed are Modified they are  List and Dictionary**"
      ],
      "metadata": {
        "id": "_O02OMEic9GM"
      }
    },
    {
      "cell_type": "markdown",
      "source": [
        "# Operators\n"
      ],
      "metadata": {
        "id": "O9F0vw5ZepKq"
      }
    },
    {
      "cell_type": "markdown",
      "source": [
        "There are different operators supported by python they are\n",
        "* Arithmetic operators - {+,  -,  * ,  /  ,   //  ,   %    ,   **}\n",
        "* Comparison Operators - {<,  > , <= , >=, == , !=}\n",
        "* Identity { is and is not }\n",
        "* Assignment Operators \n",
        "* Bitwise Operators\n",
        "* Logical Operators\n",
        "\n"
      ],
      "metadata": {
        "id": "ihK--eBWewx9"
      }
    },
    {
      "cell_type": "code",
      "source": [
        "#Examples for Arithmetic Operators\n",
        "num1 = 10\n",
        "num2 = 15\n",
        "#Addition\n",
        "print(\"Addition: \",num1+num2)\n",
        "#Subtraction\n",
        "print(\"Sub: \",num1-num2)\n",
        "#Multiplication\n",
        "print(\"Mul: \",num1*num2)\n",
        "#Division (float)\n",
        "print(\"Div Float: \",num1/num2)\n",
        "#Division (floor)\n",
        "print(\"Div Floor: \",num1//num2)\n",
        "#Moudles\n",
        "print(\"Rem is\", num1%num2)\n",
        "#Power\n",
        "print(\"Power: \",num1**num2)\n"
      ],
      "metadata": {
        "colab": {
          "base_uri": "https://localhost:8080/"
        },
        "id": "KV69AJLXfX2j",
        "outputId": "79f625dc-d926-48a3-c966-4ef1e8111b6b"
      },
      "execution_count": null,
      "outputs": [
        {
          "output_type": "stream",
          "name": "stdout",
          "text": [
            "Addition:  25\n",
            "Sub:  -5\n",
            "Mul:  150\n",
            "Div Float:  0.6666666666666666\n",
            "Div Floor:  0\n",
            "Rem is 10\n",
            "Power:  1000000000000000\n"
          ]
        }
      ]
    },
    {
      "cell_type": "code",
      "source": [
        "\n",
        "# Examples of Relational/Comparison Operators\n",
        "a = 13\n",
        "b = 33\n",
        "\n",
        "# a > b is False\n",
        "print(a > b)\n",
        "\n",
        "# a < b is True\n",
        "print(a < b)\n",
        "\n",
        "# a == b is False\n",
        "print(a == b)\n",
        "\n",
        "# a != b is True\n",
        "print(a != b)\n",
        "\n",
        "# a >= b is False\n",
        "print(a >= b)\n",
        "\n",
        "# a <= b is True\n",
        "print(a <= b)\n"
      ],
      "metadata": {
        "colab": {
          "base_uri": "https://localhost:8080/"
        },
        "id": "Z_PsXggKfvCR",
        "outputId": "5847a552-30ad-4261-93c5-a415bab0e30b"
      },
      "execution_count": null,
      "outputs": [
        {
          "output_type": "stream",
          "name": "stdout",
          "text": [
            "False\n",
            "True\n",
            "False\n",
            "True\n",
            "False\n",
            "True\n"
          ]
        }
      ]
    },
    {
      "cell_type": "code",
      "source": [
        "#example for is and is not\n",
        " #is          True if the operands are identical \n",
        " #is not      True if the operands are not identical\n",
        "\n",
        "a = 10\n",
        "b = 20\n",
        "c = a\n",
        "\n",
        "#identical r not is depends upon the same memory location\n",
        "print(a is not b)\n",
        "print(a is c)\n",
        "print(id(a))\n",
        "print(id(b))\n",
        "print(id(c))"
      ],
      "metadata": {
        "colab": {
          "base_uri": "https://localhost:8080/"
        },
        "id": "p3Z6rYPmil7f",
        "outputId": "9c7b39e2-e297-4ec1-f887-ff59cfbdf1f5"
      },
      "execution_count": null,
      "outputs": [
        {
          "output_type": "stream",
          "name": "stdout",
          "text": [
            "True\n",
            "True\n",
            "11256352\n",
            "11256672\n",
            "11256352\n"
          ]
        }
      ]
    },
    {
      "cell_type": "code",
      "source": [
        "# Examples of Assignment Operators\n",
        "a = 10\n",
        "\n",
        "# Assign value\n",
        "b = a\n",
        "print(b)\n",
        "\n",
        "# Add and assign value\n",
        "b += a\n",
        "print(b)\n",
        "\n",
        "# Subtract and assign value\n",
        "b -= a\n",
        "print(b)\n",
        "\n",
        "# multiply and assign\n",
        "b *= a\n",
        "print(b)\n",
        "\n",
        "# bitwise lishift operator\n",
        "b <<= a\n",
        "print(b)\n"
      ],
      "metadata": {
        "colab": {
          "base_uri": "https://localhost:8080/"
        },
        "id": "IWsZHdAJj1rt",
        "outputId": "b5023195-acc8-4563-86e5-def054131fe8"
      },
      "execution_count": null,
      "outputs": [
        {
          "output_type": "stream",
          "name": "stdout",
          "text": [
            "10\n",
            "20\n",
            "10\n",
            "100\n",
            "102400\n"
          ]
        }
      ]
    },
    {
      "cell_type": "code",
      "source": [
        "# Examples of Bitwise operators\n",
        "a = 10\n",
        "b = 4\n",
        "\n",
        "# Print bitwise AND operation\n",
        "print(a & b)\n",
        "\n",
        "# Print bitwise OR operation\n",
        "print(a | b)\n",
        "\n",
        "# Print bitwise NOT operation\n",
        "print(~a)\n",
        "\n",
        "# print bitwise XOR operation\n",
        "print(a ^ b)\n",
        "\n",
        "# print bitwise right shift operation\n",
        "print(a >> 2)\n",
        "\n",
        "# print bitwise left shift operation\n",
        "print(a << 2)\n"
      ],
      "metadata": {
        "colab": {
          "base_uri": "https://localhost:8080/"
        },
        "id": "x3NJ4LdnkMac",
        "outputId": "73b00b8a-507a-44ee-8b50-dc9ae46641cf"
      },
      "execution_count": null,
      "outputs": [
        {
          "output_type": "stream",
          "name": "stdout",
          "text": [
            "0\n",
            "14\n",
            "-11\n",
            "14\n",
            "2\n",
            "40\n"
          ]
        }
      ]
    },
    {
      "cell_type": "code",
      "source": [
        "# Examples of Logical Operator\n",
        "a = True\n",
        "b = False\n",
        "\n",
        "# Print a and b is False\n",
        "print(a and b)\n",
        "\n",
        "# Print a or b is True\n",
        "print(a or b)\n",
        "\n",
        "# Print not a is False\n",
        "print(not a)\n"
      ],
      "metadata": {
        "colab": {
          "base_uri": "https://localhost:8080/"
        },
        "id": "EgPo2PpqkTSy",
        "outputId": "d383261e-cb01-4b80-bf46-39408860d6c0"
      },
      "execution_count": null,
      "outputs": [
        {
          "output_type": "stream",
          "name": "stdout",
          "text": [
            "False\n",
            "True\n",
            "False\n"
          ]
        }
      ]
    },
    {
      "cell_type": "markdown",
      "source": [
        "Opertors PRECEDENCE:\n",
        "* P – Parentheses\n",
        "* E – Exponentiation\n",
        "* M – Multiplication     (Multiplication and division have the same precedence)\n",
        "* D – Division\n",
        "* A – Addition     (Addition and subtraction have the same precedence)\n",
        "* S – Subtraction"
      ],
      "metadata": {
        "id": "KfU3RVfskZap"
      }
    },
    {
      "cell_type": "markdown",
      "source": [
        "# Conditional Statements"
      ],
      "metadata": {
        "id": "YFGJXEg8i14p"
      }
    },
    {
      "cell_type": "markdown",
      "source": [
        "Python Conditions and If statements\n",
        "Python supports the usual logical conditions from mathematics:\n",
        "\n",
        "* Equals: a == b\n",
        "* Not Equals: a != b\n",
        "* Less than: a < b\n",
        "* Less than or equal to: a <= b\n",
        "* Greater than: a > b\n",
        "* Greater than or equal to: a >= b\n",
        "\n",
        "These conditions can be used in several ways, most commonly in \"if statements\" and loops.\n",
        "\n",
        "An \"if statement\" is written by using the if keyword.\n",
        "\n",
        "\n",
        "\n",
        "**Indentation**\n",
        "\n",
        "Python relies on indentation (whitespace at the beginning of a line) to define scope in the code. Other programming languages often use curly-brackets for this purpose.\n",
        "\n",
        "**Else**\n",
        "\n",
        "The else keyword catches anything which isn't caught by the preceding conditions.\n",
        "\n",
        "**Elif**\n",
        "\n",
        "The elif keyword is pythons way of saying \"if the previous conditions were not true, then try this condition\".\n"
      ],
      "metadata": {
        "id": "pk-YalDFjk6K"
      }
    },
    {
      "cell_type": "markdown",
      "source": [
        "if Statement Syntax\n",
        "\n",
        "```\n",
        "if test expression:\n",
        "statement(s)\n",
        "\n",
        "```\n",
        "\n"
      ],
      "metadata": {
        "id": "NwQJ5ZompLH9"
      }
    },
    {
      "cell_type": "code",
      "source": [
        "#example for if statement\n",
        "a = 5\n",
        "if(a <10):\n",
        "  print(\" 5 is less than 10\" )\n",
        "  "
      ],
      "metadata": {
        "colab": {
          "base_uri": "https://localhost:8080/"
        },
        "id": "RWwiDBcTo5hF",
        "outputId": "35ab022a-4518-4001-83fe-0647615d4d31"
      },
      "execution_count": null,
      "outputs": [
        {
          "output_type": "stream",
          "name": "stdout",
          "text": [
            " 5 is less than 10\n"
          ]
        }
      ]
    },
    {
      "cell_type": "markdown",
      "source": [
        "if-else Statement Syntax\n",
        "\n",
        "\n",
        "```\n",
        "if test expression:\n",
        "\n",
        "  Body of if\n",
        "\n",
        "else:\n",
        "\n",
        "  Body of else\n",
        "```\n",
        "\n"
      ],
      "metadata": {
        "id": "HDykzAbTqOj5"
      }
    },
    {
      "cell_type": "code",
      "source": [
        "i = 20;\n",
        "\n",
        "if (i < 15):\n",
        "  print(\"i is smaller than 15\")\n",
        "\n",
        "else:\n",
        "  print(\"i is greater than 15\")"
      ],
      "metadata": {
        "colab": {
          "base_uri": "https://localhost:8080/"
        },
        "id": "YgD7Zegqoaqt",
        "outputId": "01cd423e-1f44-4a55-b47c-cb35a4187b27"
      },
      "execution_count": null,
      "outputs": [
        {
          "output_type": "stream",
          "name": "stdout",
          "text": [
            "i is greater than 15\n"
          ]
        }
      ]
    },
    {
      "cell_type": "markdown",
      "source": [
        "Elif Statements\n",
        "\n",
        "\n",
        "```\n",
        "if test expression:\n",
        "  Body of if\n",
        "elif test expression:\n",
        "  Body of elif\n",
        "else:\n",
        "  Body of else\n",
        "```\n",
        "\n"
      ],
      "metadata": {
        "id": "iU6EGycqrr-7"
      }
    },
    {
      "cell_type": "code",
      "source": [
        "a = 50\n",
        "\n",
        "if (a == 20):\n",
        "  print (\"value of variable a is 20\")\n",
        "\n",
        "elif (a == 30):\n",
        "  print (\"value of variable a is 30\")\n",
        "\n",
        "elif (a == 40):\n",
        "  print (\"value of variable a is 40\")\n",
        "\n",
        "else:\n",
        "  print (\"value of variable a is greater than 40\")"
      ],
      "metadata": {
        "colab": {
          "base_uri": "https://localhost:8080/"
        },
        "id": "eLwnub8Hrrp7",
        "outputId": "3a2cf3b2-8091-4e90-de86-34e53208eae1"
      },
      "execution_count": null,
      "outputs": [
        {
          "output_type": "stream",
          "name": "stdout",
          "text": [
            "value of variable a is greater than 40\n"
          ]
        }
      ]
    },
    {
      "cell_type": "markdown",
      "source": [
        "Nested Elif Syntax\n",
        "\n",
        "\n",
        "\n",
        "```\n",
        "if test expression 1:\n",
        "  # Executes when condition 1 is true\n",
        "  body of if statement\n",
        "     if test expression 2:\n",
        "        # Executes when condition 2 is true\n",
        "        Body of nested if\n",
        "     else:\n",
        "        body of nested if\n",
        "else:\n",
        "  body of if else statement\n",
        "```\n",
        "\n"
      ],
      "metadata": {
        "id": "zElJT6VMsonR"
      }
    },
    {
      "cell_type": "code",
      "source": [
        "a = 20\n",
        "if (a == 20):\n",
        "# First if statement\n",
        "   if (a < 25):\n",
        "     print (\"a is smaller than 25\")\n",
        "   else:\n",
        "     print (\"a is greater than 25\")\n",
        "else:\n",
        "  print (\"a is not equal to 20\")\n"
      ],
      "metadata": {
        "colab": {
          "base_uri": "https://localhost:8080/"
        },
        "id": "o8kQFjJIs6vP",
        "outputId": "2f7660d0-532d-4757-a9ad-46ce8232f7ae"
      },
      "execution_count": null,
      "outputs": [
        {
          "output_type": "stream",
          "name": "stdout",
          "text": [
            "a is smaller than 25\n"
          ]
        }
      ]
    },
    {
      "cell_type": "markdown",
      "source": [
        "# Loops"
      ],
      "metadata": {
        "id": "eVSz08MKtkuw"
      }
    },
    {
      "cell_type": "markdown",
      "source": [
        "Python programming language provides the following types of loops to handle looping requirements. Python provides three ways for executing the loops. While all the ways provide similar basic functionality, they differ in their syntax and condition checking time.\n",
        "\n",
        "* While  \n",
        "* For\n",
        "  "
      ],
      "metadata": {
        "id": "UuzLEXN3twIQ"
      }
    },
    {
      "cell_type": "markdown",
      "source": [
        "While Loop Syntax\n",
        "* While  \n",
        "  - used to satisfy the condition when the number of iterations is unknown\n",
        "  - Increment can be done before or after the execution of the statement(s).\n",
        "\n",
        "Syntax\n",
        "\n",
        "```\n",
        "while expression:\n",
        "    statement(s)\n",
        "```\n",
        "\n"
      ],
      "metadata": {
        "id": "_d0x8SbEvGZD"
      }
    },
    {
      "cell_type": "code",
      "source": [
        "# Python program to illustrate\n",
        "# while loop\n",
        "count = 0\n",
        "while (count < 8):\n",
        "\tcount = count + 1\n",
        "\tprint(\"Hello Pamu\")\n"
      ],
      "metadata": {
        "colab": {
          "base_uri": "https://localhost:8080/"
        },
        "id": "hlzVOYNAvAYP",
        "outputId": "abd3438c-90a8-4a67-eb7d-5e730036a797"
      },
      "execution_count": null,
      "outputs": [
        {
          "output_type": "stream",
          "name": "stdout",
          "text": [
            "Hello Pamu\n",
            "Hello Pamu\n",
            "Hello Pamu\n",
            "Hello Pamu\n",
            "Hello Pamu\n",
            "Hello Pamu\n",
            "Hello Pamu\n",
            "Hello Pamu\n"
          ]
        }
      ]
    },
    {
      "cell_type": "markdown",
      "source": [
        "For Loop Syntax\n",
        "* For\n",
        "  - used to obtain the result only when number of iterations is known.\n",
        "  - Once the statement(s) is executed then after increment is done.\n",
        "Syntax\n",
        "\n",
        "\n",
        "```\n",
        "for iterator_var in sequence:\n",
        "    statements(s)\n",
        "```\n",
        "\n",
        "\n"
      ],
      "metadata": {
        "id": "I4ejxog2vcEF"
      }
    },
    {
      "cell_type": "code",
      "source": [
        "\n",
        "n = 5\n",
        "for i in range(0, n):\n",
        "\tprint(i)\n"
      ],
      "metadata": {
        "colab": {
          "base_uri": "https://localhost:8080/"
        },
        "id": "H9XURD4XvaRp",
        "outputId": "05046879-12f3-4096-9b12-f5f14318c1f2"
      },
      "execution_count": null,
      "outputs": [
        {
          "output_type": "stream",
          "name": "stdout",
          "text": [
            "0\n",
            "1\n",
            "2\n",
            "3\n",
            "4\n"
          ]
        }
      ]
    },
    {
      "cell_type": "markdown",
      "source": [
        "**Nested Loops:** \n",
        "\n",
        "Python programming language allows to use one loop inside another loop. Following section shows few examples to illustrate the concept. \n",
        "Syntax: \n",
        "\n",
        "\n",
        "```\n",
        "for iterator_var in sequence:\n",
        "\tfor iterator_var in sequence:\n",
        "\t\tstatements(s)\n",
        "\t\tstatements(s)\n",
        "\n",
        "```\n",
        "\n",
        "\n",
        "\n",
        "```\n",
        "while expression:\n",
        "\twhile expression:\n",
        "\t\tstatement(s)\n",
        "\t\tstatement(s)\n",
        "\n",
        "```\n",
        "\n",
        "\n"
      ],
      "metadata": {
        "id": "XJK8RWg7wpRS"
      }
    },
    {
      "cell_type": "code",
      "source": [
        "# Python program to illustrate\n",
        "# nested for loops in Python\n",
        "from __future__ import print_function\n",
        "for i in range(1, 5):\n",
        "\tfor j in range(i):\n",
        "\t\tprint(i, end=' ')\n",
        "\tprint()\n"
      ],
      "metadata": {
        "colab": {
          "base_uri": "https://localhost:8080/"
        },
        "id": "l0IRHpC_w8qT",
        "outputId": "55dca7ab-0c52-4193-da99-d7ea4607703c"
      },
      "execution_count": null,
      "outputs": [
        {
          "output_type": "stream",
          "name": "stdout",
          "text": [
            "1 \n",
            "2 2 \n",
            "3 3 3 \n",
            "4 4 4 4 \n"
          ]
        }
      ]
    },
    {
      "cell_type": "markdown",
      "source": [
        "**Loop Control Statements**: \n",
        "\n",
        "Loop control statements change execution from their normal sequence. When execution leaves a scope, all automatic objects that were created in that scope are destroyed. Python supports the following control statements. \n",
        "\n",
        "* Continue Statement: It returns the control to the beginning of the loop.\n",
        "* Break Statement: It brings control out of the loop\n"
      ],
      "metadata": {
        "id": "1XSIHFlzxGaZ"
      }
    },
    {
      "cell_type": "code",
      "source": [
        "# Prints all letters except 'e' and 's'\n",
        "for letter in 'udaykiranpamu':\n",
        "\tif letter == 'e' or letter == 's':\n",
        "\t\tcontinue\n",
        "\tprint('Current Letter :', letter)\n",
        "\tvar = 10\n"
      ],
      "metadata": {
        "colab": {
          "base_uri": "https://localhost:8080/"
        },
        "id": "437Gr-w3xQC6",
        "outputId": "0012e2ce-4224-4ce1-80dc-f1f79a86cfa7"
      },
      "execution_count": null,
      "outputs": [
        {
          "output_type": "stream",
          "name": "stdout",
          "text": [
            "Current Letter : u\n",
            "Current Letter : d\n",
            "Current Letter : a\n",
            "Current Letter : y\n",
            "Current Letter : k\n",
            "Current Letter : i\n",
            "Current Letter : r\n",
            "Current Letter : a\n",
            "Current Letter : n\n",
            "Current Letter : p\n",
            "Current Letter : a\n",
            "Current Letter : m\n",
            "Current Letter : u\n"
          ]
        }
      ]
    },
    {
      "cell_type": "code",
      "source": [
        "for letter in 'pamu':\n",
        "\n",
        "\t# break the loop as soon it sees 'e'\n",
        "\t# or 's'\n",
        "\tif letter == 'e' or letter == 's':\n",
        "\t\tbreak\n",
        "\n",
        "print('Current Letter :', letter)\n"
      ],
      "metadata": {
        "colab": {
          "base_uri": "https://localhost:8080/"
        },
        "id": "j-YEFkDLxkJY",
        "outputId": "7f8ab0e1-2e9f-4b00-eeee-2f121b3e5b0e"
      },
      "execution_count": null,
      "outputs": [
        {
          "output_type": "stream",
          "name": "stdout",
          "text": [
            "Current Letter : u\n"
          ]
        }
      ]
    },
    {
      "cell_type": "code",
      "source": [
        "#Linear Search \n",
        "l1=[10,23,29,15,1,5,6,89,78]\n",
        "key=int(input(\"Enter the value to search \\t\"))\n",
        "for index,value in enumerate(l1):\n",
        "  if value == key:\n",
        "    print(\"Element Found At Index\",index)\n",
        "    break\n",
        "  else:\n",
        "    continue\n",
        "else:\n",
        "      print(\"element not Found\")"
      ],
      "metadata": {
        "colab": {
          "base_uri": "https://localhost:8080/"
        },
        "id": "6GPuV4U36gUH",
        "outputId": "c4eb0ce4-148b-4522-9d34-12ea18a9dbec"
      },
      "execution_count": 10,
      "outputs": [
        {
          "output_type": "stream",
          "name": "stdout",
          "text": [
            "Enter the value to search \t10\n",
            "Element Found At Index 0\n"
          ]
        }
      ]
    },
    {
      "cell_type": "markdown",
      "source": [
        "# Strings\n"
      ],
      "metadata": {
        "id": "UMqSf7Hj8_2C"
      }
    },
    {
      "cell_type": "markdown",
      "source": [
        "* Strings are Immutable \n",
        "* String is Ordered Data Structure"
      ],
      "metadata": {
        "id": "kemhDM6e9HGV"
      }
    },
    {
      "cell_type": "code",
      "source": [
        "#Indexing\n",
        "str1=\"its  my birthday\"\n",
        "print(str1[2])\n",
        "print(str1[-16])"
      ],
      "metadata": {
        "colab": {
          "base_uri": "https://localhost:8080/"
        },
        "id": "R2WTc8T1-RFm",
        "outputId": "4d767764-20d1-4eee-a75e-2cc66bcfa720"
      },
      "execution_count": 30,
      "outputs": [
        {
          "output_type": "stream",
          "name": "stdout",
          "text": [
            "s\n",
            "i\n"
          ]
        }
      ]
    },
    {
      "cell_type": "markdown",
      "source": [
        "* Slicing\n",
        "  - We can perform this operation from both sides \n",
        "  - i.e Left to Right or Right to Left"
      ],
      "metadata": {
        "id": "fuW0ENSe9evK"
      }
    },
    {
      "cell_type": "code",
      "source": [
        "str1=\"its  my birthday\"\n",
        "print(str1[2:10])\n",
        "print(str1[1])\n",
        "print(str1[0:16])\n",
        "print(str1[-18:-1])"
      ],
      "metadata": {
        "colab": {
          "base_uri": "https://localhost:8080/"
        },
        "id": "EYQc8Phi9uOz",
        "outputId": "720ca637-3185-4051-95e6-3ae752569528"
      },
      "execution_count": 28,
      "outputs": [
        {
          "output_type": "stream",
          "name": "stdout",
          "text": [
            "s  my bi\n",
            "t\n",
            "its  my birthday\n",
            "its  my birthda\n"
          ]
        }
      ]
    },
    {
      "cell_type": "markdown",
      "source": [
        "Format method"
      ],
      "metadata": {
        "id": "sEv8nxUL_kg6"
      }
    },
    {
      "cell_type": "code",
      "source": [
        "str1 = \"Uday\"\n",
        "str2 = \"Kiran\"\n",
        "str3 =\"Pamu\"\n",
        "print(\"My First Name is {} and Middle Name is {}  Last Name is {} \".format(str1,str3,str2))\n",
        "print(\"My First Name is {a} and Middle Name is {b}  Last Name is {c} \".format(a=str1,c=str3,b=str2))"
      ],
      "metadata": {
        "colab": {
          "base_uri": "https://localhost:8080/"
        },
        "id": "0CPqIwd0_jQx",
        "outputId": "e61c9106-6985-43fe-b183-d5a8227d708b"
      },
      "execution_count": 33,
      "outputs": [
        {
          "output_type": "stream",
          "name": "stdout",
          "text": [
            "My First Name is Uday and Middle Name is Pamu  Last Name is Kiran \n",
            "My First Name is Uday and Middle Name is Kiran  Last Name is Pamu \n"
          ]
        }
      ]
    },
    {
      "cell_type": "code",
      "source": [
        "#Upper Case\n",
        "s=\"chinni\"\n",
        "print(s.isupper()) #Optional for Understanding Purpose only ,Checking before upper case\n",
        "s2=s.upper() #optional \n",
        "print(s2) #optional after using upper case\n",
        "print(s2.isupper()) #optional\n",
        "\n",
        "\n",
        "print(s.upper())"
      ],
      "metadata": {
        "colab": {
          "base_uri": "https://localhost:8080/"
        },
        "id": "EsILMDSmAjth",
        "outputId": "643afc62-d04f-44aa-f10c-168de436e704"
      },
      "execution_count": 51,
      "outputs": [
        {
          "output_type": "stream",
          "name": "stdout",
          "text": [
            "False\n",
            "CHINNI\n",
            "True\n",
            "CHINNI\n"
          ]
        }
      ]
    },
    {
      "cell_type": "code",
      "source": [
        "#Lower Case\n",
        "s2=\"CHINNI\"\n",
        "print(s2.islower())\n",
        "# Here im checking the string is lower case r not(optional)\n",
        "print(s2.lower())"
      ],
      "metadata": {
        "colab": {
          "base_uri": "https://localhost:8080/"
        },
        "id": "RTI6o6TrAt80",
        "outputId": "81cf9999-cdc3-4072-c694-300e87915703"
      },
      "execution_count": 42,
      "outputs": [
        {
          "output_type": "stream",
          "name": "stdout",
          "text": [
            "False\n",
            "chinni\n"
          ]
        }
      ]
    },
    {
      "cell_type": "code",
      "source": [
        "#Split\n",
        "s3 = \"HTML,JAVA,PYTHON,CSS,NODEJS\"\n",
        "s4 = \"HTML JAVA PYTHON CSS NODEJS\"\n",
        "print(s3.split(\",\")) #split by comma\n",
        "print(s4.split(\" \")) #split by sapce"
      ],
      "metadata": {
        "colab": {
          "base_uri": "https://localhost:8080/"
        },
        "id": "jCbFgpBFBaQa",
        "outputId": "4d1e8e0f-c00d-4cf2-b548-5856d0bf8a51"
      },
      "execution_count": 56,
      "outputs": [
        {
          "output_type": "stream",
          "name": "stdout",
          "text": [
            "['HTML', 'JAVA', 'PYTHON', 'CSS', 'NODEJS']\n",
            "['HTML', 'JAVA', 'PYTHON', 'CSS', 'NODEJS']\n"
          ]
        }
      ]
    },
    {
      "cell_type": "code",
      "source": [
        "#Find \n",
        "s5 = \"BUY ME A COFFEE\"\n",
        "print(s5.rfind(\"C\"))\n",
        "print(s5.find(\"C\"))"
      ],
      "metadata": {
        "colab": {
          "base_uri": "https://localhost:8080/"
        },
        "id": "1e-4YH6hD_hS",
        "outputId": "e63740ff-96f8-445e-97cf-192b83686b14"
      },
      "execution_count": 67,
      "outputs": [
        {
          "output_type": "stream",
          "name": "stdout",
          "text": [
            "9\n",
            "9\n"
          ]
        }
      ]
    },
    {
      "cell_type": "code",
      "source": [
        "#strip\n",
        "s6 = \"IMKIRAN\"\n",
        "print(s6.strip(\"IM\"))"
      ],
      "metadata": {
        "colab": {
          "base_uri": "https://localhost:8080/"
        },
        "id": "rB_CjbnuFOd0",
        "outputId": "164edf79-0aa7-48c6-8063-f2ee200fd6fa"
      },
      "execution_count": 76,
      "outputs": [
        {
          "output_type": "stream",
          "name": "stdout",
          "text": [
            "KIRAN\n"
          ]
        }
      ]
    },
    {
      "cell_type": "code",
      "source": [
        "#center\n",
        "s7 = \"PAMU\"\n",
        "print(s7.center(20,\".\"))\n",
        "print(s7.rjust(20,\".\")) #optional\n",
        "print(s7.ljust(20,\".\")) #optional"
      ],
      "metadata": {
        "colab": {
          "base_uri": "https://localhost:8080/"
        },
        "id": "f4pkvYGdGIgO",
        "outputId": "a98ea4ce-a636-44ff-ed13-7f2f76e54a50"
      },
      "execution_count": 80,
      "outputs": [
        {
          "output_type": "stream",
          "name": "stdout",
          "text": [
            "........PAMU........\n",
            "................PAMU\n",
            "PAMU................\n"
          ]
        }
      ]
    },
    {
      "cell_type": "code",
      "source": [
        "#replace\n",
        "s8 = \"UDEY KIREN PEMU\"\n",
        "print(s8.replace(\"E\",\"A\"))"
      ],
      "metadata": {
        "colab": {
          "base_uri": "https://localhost:8080/"
        },
        "id": "11RP1ESdGuGK",
        "outputId": "bfd4e855-e4ca-4621-ca2e-b606f320cec8"
      },
      "execution_count": 81,
      "outputs": [
        {
          "output_type": "stream",
          "name": "stdout",
          "text": [
            "UDAY KIRAN PAMU\n"
          ]
        }
      ]
    },
    {
      "cell_type": "markdown",
      "source": [
        "# List"
      ],
      "metadata": {
        "id": "ubv7qUYbHX-c"
      }
    },
    {
      "cell_type": "markdown",
      "source": [
        "* Lists are Mutable\n",
        "* Supports Add,Update and  Delete\n",
        "* Oredered,slicing and indexing\n",
        "* is heterogeneous datatype"
      ],
      "metadata": {
        "id": "juL5zjfTHbNc"
      }
    },
    {
      "cell_type": "code",
      "source": [
        "list1 =[10,20,30,40, \"UDAY\",\"PAMU\",]\n",
        "print(list1, type(list1))"
      ],
      "metadata": {
        "colab": {
          "base_uri": "https://localhost:8080/"
        },
        "id": "3jmLuanmHx0j",
        "outputId": "d4abef12-3c4b-405e-cc1b-268de8d32310"
      },
      "execution_count": 87,
      "outputs": [
        {
          "output_type": "stream",
          "name": "stdout",
          "text": [
            "[10, 20, 30, 40, 'UDAY', 'PAMU'] <class 'list'>\n"
          ]
        }
      ]
    },
    {
      "cell_type": "code",
      "source": [
        "#List Indexing\n",
        "list1 =[10,20,30,40, \"UDAY\",\"PAMU\",]\n",
        "print(list1[3])"
      ],
      "metadata": {
        "colab": {
          "base_uri": "https://localhost:8080/"
        },
        "id": "VpHKgIbzWC5Y",
        "outputId": "aa0318fb-e73b-409f-d61f-40a251084110"
      },
      "execution_count": 88,
      "outputs": [
        {
          "output_type": "stream",
          "name": "stdout",
          "text": [
            "40\n"
          ]
        }
      ]
    },
    {
      "cell_type": "code",
      "source": [
        "#List Slicing\n",
        "print(list1[1:3])\n",
        "print(list1[0:5])\n"
      ],
      "metadata": {
        "colab": {
          "base_uri": "https://localhost:8080/"
        },
        "id": "pqWcWY0tY5nQ",
        "outputId": "4b3d07ab-5977-43f2-8f7b-c5e1a15c0062"
      },
      "execution_count": 100,
      "outputs": [
        {
          "output_type": "stream",
          "name": "stdout",
          "text": [
            "[20, 30]\n",
            "[10, 20, 30, 40, 'UDAY']\n"
          ]
        }
      ]
    },
    {
      "cell_type": "code",
      "source": [
        "#Append\n",
        "list1 =[10,20,30,40, \"UDAY\",\"PAMU\",]\n",
        "list1.append(\"KIRAN\")\n",
        "print(list1)"
      ],
      "metadata": {
        "colab": {
          "base_uri": "https://localhost:8080/"
        },
        "id": "wXrAFQCbaDhh",
        "outputId": "a3437b71-871e-45db-a118-d00e1b3cc0bb"
      },
      "execution_count": 109,
      "outputs": [
        {
          "output_type": "stream",
          "name": "stdout",
          "text": [
            "[10, 20, 30, 40, 'UDAY', 'PAMU', 'KIRAN']\n"
          ]
        }
      ]
    },
    {
      "cell_type": "code",
      "source": [
        "#extend\n",
        "list1 =[10,20,30,40, \"UDAY\",\"PAMU\",]\n",
        "list1.extend(\"KIRAN\")\n",
        "list2=[50,60,70,]\n",
        "list1.extend(list2)\n",
        "print(list1)"
      ],
      "metadata": {
        "colab": {
          "base_uri": "https://localhost:8080/"
        },
        "id": "wuj0DEooby8l",
        "outputId": "884bf3b7-e081-41a0-e545-82e85a158805"
      },
      "execution_count": 158,
      "outputs": [
        {
          "output_type": "stream",
          "name": "stdout",
          "text": [
            "[10, 20, 30, 40, 'UDAY', 'PAMU', 'K', 'I', 'R', 'A', 'N', 50, 60, 70]\n"
          ]
        }
      ]
    },
    {
      "cell_type": "markdown",
      "source": [
        "** EXTEND vs APPEND **\n",
        "* Append will only append or add one element to the list at one time\n",
        "* Extend will help to add multiple elements to the list at one time\n",
        "* if we give extend operation of an string it will divde and extend by single char"
      ],
      "metadata": {
        "id": "lWlCpKkkciqr"
      }
    },
    {
      "cell_type": "code",
      "source": [
        "#insert\n",
        "#at once only we can add one element\n",
        "list1 =[10,20,30,40, \"UDAY\",\"PAMU\",]\n",
        "list1.insert(4,50)\n",
        "print(list1)"
      ],
      "metadata": {
        "colab": {
          "base_uri": "https://localhost:8080/"
        },
        "id": "d_ro0rkCcJjU",
        "outputId": "400f144f-ad00-4344-faf7-d2c9b9ec36a6"
      },
      "execution_count": 121,
      "outputs": [
        {
          "output_type": "stream",
          "name": "stdout",
          "text": [
            "[10, 20, 30, 40, 50, 'UDAY', 'PAMU']\n"
          ]
        }
      ]
    },
    {
      "cell_type": "code",
      "source": [
        "#Reverse\n",
        "list1 =[10,20,30,40, \"UDAY\",\"PAMU\",]\n",
        "list1.reverse()\n",
        "print(list1)"
      ],
      "metadata": {
        "colab": {
          "base_uri": "https://localhost:8080/"
        },
        "id": "LtiDO5ddd9og",
        "outputId": "f5de0e7d-73e2-47f2-ab3e-a93fd879d2bf"
      },
      "execution_count": 126,
      "outputs": [
        {
          "output_type": "stream",
          "name": "stdout",
          "text": [
            "['PAMU', 'UDAY', 40, 30, 20, 10]\n"
          ]
        }
      ]
    },
    {
      "cell_type": "code",
      "source": [
        "#Cheching mutablitie of List\n",
        "list1 =[10,20,30,40, \"UDAY\",\"PAMU\",]\n",
        "print(id(list1))\n",
        "list1.append(50)\n",
        "print(id(list1))\n",
        "print(\"before and after the append operation over the list will result the same memory location\")"
      ],
      "metadata": {
        "colab": {
          "base_uri": "https://localhost:8080/"
        },
        "id": "BwVjihUNc7w9",
        "outputId": "1c4b9639-fe02-4b97-bb27-b8d479229fba"
      },
      "execution_count": 127,
      "outputs": [
        {
          "output_type": "stream",
          "name": "stdout",
          "text": [
            "140069752406816\n",
            "140069752406816\n",
            "before and after the append operation over the list will result the same memory location\n"
          ]
        }
      ]
    },
    {
      "cell_type": "code",
      "source": [
        "list1 =[10,20,30,40, \"UDAY\",\"PAMU\",]\n",
        "\n",
        "#Pop\n",
        "list1.pop()\n",
        "print(\"Pop will remove the Last Elm in the List : \",list1)\n",
        "#Remove\n",
        "list1.remove(20)\n",
        "print(\"Remove will remove the Particular Elm in the List : \",list1)\n",
        "#clear\n",
        "list1.clear()\n",
        "print(\"Clear will remove the Entire Elms in the List : \",list1)\n",
        "#delete\n",
        "del list1\n",
        "print(\"Output will be an error called list not found if we try to print list1\")"
      ],
      "metadata": {
        "colab": {
          "base_uri": "https://localhost:8080/"
        },
        "id": "E4588Jghe7we",
        "outputId": "dba333c6-0f93-49f8-cc4c-bf2b672e8565"
      },
      "execution_count": 139,
      "outputs": [
        {
          "output_type": "stream",
          "name": "stdout",
          "text": [
            "Pop will remove the Last Elm in the List :  [10, 20, 30, 40, 'UDAY']\n",
            "Remove will remove the Particular Elm in the List :  [10, 30, 40, 'UDAY']\n",
            "Clear will remove the Entire Elms in the List :  []\n",
            "Output will be an error called list not found if we try to print list1\n"
          ]
        }
      ]
    },
    {
      "cell_type": "code",
      "source": [
        "list1=[1,2,3]\n",
        "list2=[4,5,6]\n",
        "print(list1+list2)"
      ],
      "metadata": {
        "colab": {
          "base_uri": "https://localhost:8080/"
        },
        "id": "96JRV7SZhAhZ",
        "outputId": "f2a9863b-7bd8-4fc3-af21-c3db4814972d"
      },
      "execution_count": 140,
      "outputs": [
        {
          "output_type": "stream",
          "name": "stdout",
          "text": [
            "[1, 2, 3, 4, 5, 6]\n"
          ]
        }
      ]
    },
    {
      "cell_type": "markdown",
      "source": [
        "# Tuple"
      ],
      "metadata": {
        "id": "U4vvsY5Oee7C"
      }
    },
    {
      "cell_type": "markdown",
      "source": [
        "**Tuple**\n",
        "* is a immutable data structure\n",
        "* will contains only Index and count methods\n",
        "* ordered by indexing"
      ],
      "metadata": {
        "id": "9DPopGJIhlSV"
      }
    },
    {
      "cell_type": "code",
      "source": [
        "t=(1,2,3,4,4,4,5,6)\n",
        "print(t,type(t))"
      ],
      "metadata": {
        "colab": {
          "base_uri": "https://localhost:8080/"
        },
        "id": "wbMT5cnyhk1f",
        "outputId": "05b21d89-b6b4-487e-a5d0-131f4cada476"
      },
      "execution_count": 151,
      "outputs": [
        {
          "output_type": "stream",
          "name": "stdout",
          "text": [
            "(1, 2, 3, 4, 4, 4, 5, 6) <class 'tuple'>\n"
          ]
        }
      ]
    },
    {
      "cell_type": "code",
      "source": [
        "#indexing\n",
        "print(t[2])\n",
        "print(t.index(6))"
      ],
      "metadata": {
        "colab": {
          "base_uri": "https://localhost:8080/"
        },
        "id": "5e38BlM4iJ6R",
        "outputId": "9f0d309c-81f4-441f-8c8c-12694b53e822"
      },
      "execution_count": 152,
      "outputs": [
        {
          "output_type": "stream",
          "name": "stdout",
          "text": [
            "3\n",
            "7\n"
          ]
        }
      ]
    },
    {
      "cell_type": "code",
      "source": [
        "#slicing\n",
        "print(t[:5])"
      ],
      "metadata": {
        "colab": {
          "base_uri": "https://localhost:8080/"
        },
        "id": "hr3OFsgAiTDc",
        "outputId": "94c1c7fb-8a10-4a0f-f3c4-5c388295faff"
      },
      "execution_count": 153,
      "outputs": [
        {
          "output_type": "stream",
          "name": "stdout",
          "text": [
            "(1, 2, 3, 4, 4)\n"
          ]
        }
      ]
    },
    {
      "cell_type": "code",
      "source": [
        "#count\n",
        "print(t.count(4))"
      ],
      "metadata": {
        "colab": {
          "base_uri": "https://localhost:8080/"
        },
        "id": "OWX3rCA2i2xG",
        "outputId": "2d89d046-a333-4b74-9bf6-eaf92bc5c358"
      },
      "execution_count": 154,
      "outputs": [
        {
          "output_type": "stream",
          "name": "stdout",
          "text": [
            "3\n"
          ]
        }
      ]
    },
    {
      "cell_type": "code",
      "source": [
        "#Converting Tuple to List\n",
        "l=list(t)\n",
        "print(l)"
      ],
      "metadata": {
        "colab": {
          "base_uri": "https://localhost:8080/"
        },
        "id": "Lda_zQeHjRH6",
        "outputId": "0b6abff8-7319-402b-e6b2-d22c7a13bb55"
      },
      "execution_count": 155,
      "outputs": [
        {
          "output_type": "stream",
          "name": "stdout",
          "text": [
            "[1, 2, 3, 4, 4, 4, 5, 6]\n"
          ]
        }
      ]
    },
    {
      "cell_type": "markdown",
      "source": [
        "# Dictionary"
      ],
      "metadata": {
        "id": "am1n3SL3kspt"
      }
    },
    {
      "cell_type": "markdown",
      "source": [
        "**Dictionary**\n",
        "* Is a Mutable\n",
        "* Unordered datastructure\n",
        "* Keys Should be unique\n",
        "* Keys Should be immutable"
      ],
      "metadata": {
        "id": "FIVPSMkikw-n"
      }
    },
    {
      "cell_type": "code",
      "source": [
        "dict={\"std_id\":101,\"Name\":\"Demon\",\"Mobile\":9701510453,\"Email\":\"imudaykiranpamu@gmail.com\"}\n",
        "print(dict)"
      ],
      "metadata": {
        "colab": {
          "base_uri": "https://localhost:8080/"
        },
        "id": "9prwO_SGlGk6",
        "outputId": "e4d9e01b-0135-49fc-aac9-9457b6f02b04"
      },
      "execution_count": 164,
      "outputs": [
        {
          "output_type": "stream",
          "name": "stdout",
          "text": [
            "{'std_id': 101, 'Name': 'Demon', 'Mobile': 9701510453, 'Email': 'imudaykiranpamu@gmail.com'}\n"
          ]
        }
      ]
    },
    {
      "cell_type": "code",
      "source": [
        "#Keys Should Be Unique proof:\n",
        "dict={\"std_id\":101,\"Name\":\"Demon\",\"Mobile\":9701510453,\"Email\":\"imudaykiranpamu@gmail.com\",\"Name\":\"Uday\"}\n",
        "#here i give two values for single Key Name\n",
        "#result will be\n",
        "print(dict)"
      ],
      "metadata": {
        "colab": {
          "base_uri": "https://localhost:8080/"
        },
        "id": "dRhERNhGlu1Y",
        "outputId": "08e5df5c-0369-4bb2-814d-8804045b3fb3"
      },
      "execution_count": 163,
      "outputs": [
        {
          "output_type": "stream",
          "name": "stdout",
          "text": [
            "{'std_id': 101, 'Name': 'Uday', 'Mobile': 9701510453, 'Email': 'imudaykiranpamu@gmail.com'}\n"
          ]
        }
      ]
    },
    {
      "cell_type": "code",
      "source": [
        "#Update r add Operation\n",
        "dict[\"Dept\"] = \"CSE\"\n",
        "print(dict)"
      ],
      "metadata": {
        "colab": {
          "base_uri": "https://localhost:8080/"
        },
        "id": "SUKNKP8VmxDR",
        "outputId": "9c8636a4-ef8b-4d4f-f834-02ff607d59a7"
      },
      "execution_count": 166,
      "outputs": [
        {
          "output_type": "stream",
          "name": "stdout",
          "text": [
            "{'std_id': 101, 'Name': 'Demon', 'Mobile': 9701510453, 'Email': 'imudaykiranpamu@gmail.com', 'Dept': 'CSE'}\n"
          ]
        }
      ]
    },
    {
      "cell_type": "code",
      "source": [
        "#retriving By Key Id\n",
        "print(dict[\"Mobile\"])"
      ],
      "metadata": {
        "colab": {
          "base_uri": "https://localhost:8080/"
        },
        "id": "8QTSxJEhm_Ex",
        "outputId": "cc315d0b-f826-4ec4-933d-830279846ad4"
      },
      "execution_count": 170,
      "outputs": [
        {
          "output_type": "stream",
          "name": "stdout",
          "text": [
            "9701510453\n"
          ]
        }
      ]
    },
    {
      "cell_type": "code",
      "source": [
        "for x in dict:\n",
        "  print(x)\n",
        "  #will get only keys"
      ],
      "metadata": {
        "colab": {
          "base_uri": "https://localhost:8080/"
        },
        "id": "Y9XYUGSPm_H2",
        "outputId": "b2a124af-95a7-4fd3-c6e5-324ed30120a5"
      },
      "execution_count": 171,
      "outputs": [
        {
          "output_type": "stream",
          "name": "stdout",
          "text": [
            "std_id\n",
            "Name\n",
            "Mobile\n",
            "Email\n",
            "Dept\n"
          ]
        }
      ]
    },
    {
      "cell_type": "code",
      "source": [
        "for t in dict.items():\n",
        "  print(t)"
      ],
      "metadata": {
        "colab": {
          "base_uri": "https://localhost:8080/"
        },
        "id": "CxIt0j3xn10w",
        "outputId": "4c30a859-adb4-41be-e037-775b217b1850"
      },
      "execution_count": 172,
      "outputs": [
        {
          "output_type": "stream",
          "name": "stdout",
          "text": [
            "('std_id', 101)\n",
            "('Name', 'Demon')\n",
            "('Mobile', 9701510453)\n",
            "('Email', 'imudaykiranpamu@gmail.com')\n",
            "('Dept', 'CSE')\n"
          ]
        }
      ]
    },
    {
      "cell_type": "code",
      "source": [
        "#Creating Dictionary\n",
        "d1=[1,2,3,4]\n",
        "d=dict.fromkeys(d1,1)\n",
        "print(d)"
      ],
      "metadata": {
        "colab": {
          "base_uri": "https://localhost:8080/"
        },
        "id": "xm0iPKj6oWL9",
        "outputId": "2e7858fb-18f5-4e87-f694-91e0a2109013"
      },
      "execution_count": 178,
      "outputs": [
        {
          "output_type": "stream",
          "name": "stdout",
          "text": [
            "{1: 1, 2: 1, 3: 1, 4: 1}\n"
          ]
        }
      ]
    },
    {
      "cell_type": "code",
      "source": [
        "#update\n",
        "d2={5:2,6:3,7:4,8:5}\n",
        "d.update(d2)\n",
        "print(d)"
      ],
      "metadata": {
        "colab": {
          "base_uri": "https://localhost:8080/"
        },
        "id": "ekM9t0XjpZ1M",
        "outputId": "ab8365b1-9dee-467c-ccfe-9013cd4b2a1b"
      },
      "execution_count": 182,
      "outputs": [
        {
          "output_type": "stream",
          "name": "stdout",
          "text": [
            "{1: 1, 2: 1, 3: 1, 4: 1, 5: 2, 6: 3, 7: 4, 8: 5}\n"
          ]
        }
      ]
    },
    {
      "cell_type": "code",
      "source": [
        "#Other Metods\n",
        "#Pop Method\n",
        "d={1: 1, 2: 1, 3: 1, 4: 1, 5: 2, 6: 3, 7: 4, 8: 5}\n",
        "r=d.pop(8)\n",
        "print(d,r)\n",
        "#pop item \n",
        "#willl remove last element\n",
        "r=d.popitem()\n",
        "print(d)\n",
        "#clear\n",
        "d.clear()\n",
        "print(d)\n",
        "#del\n",
        "del d\n",
        "print(\"Output will be an error called dict not found if we try to print d\")"
      ],
      "metadata": {
        "colab": {
          "base_uri": "https://localhost:8080/"
        },
        "id": "r_97jrB9pfo6",
        "outputId": "6cda9ec8-9de8-4516-b926-2b2c4244c4a2"
      },
      "execution_count": 211,
      "outputs": [
        {
          "output_type": "stream",
          "name": "stdout",
          "text": [
            "{1: 1, 2: 1, 3: 1, 4: 1, 5: 2, 6: 3, 7: 4} 5\n",
            "{1: 1, 2: 1, 3: 1, 4: 1, 5: 2, 6: 3}\n",
            "{}\n",
            "Output will be an error called dict not found if we try to print d\n"
          ]
        }
      ]
    }
  ]
}